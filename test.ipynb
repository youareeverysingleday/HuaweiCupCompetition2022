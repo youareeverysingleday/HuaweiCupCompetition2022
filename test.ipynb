{
 "cells": [
  {
   "cell_type": "code",
   "execution_count": null,
   "metadata": {},
   "outputs": [],
   "source": [
    "import os\n",
    "import datetime\n",
    "import time\n",
    "\n",
    "import pandas as pd\n",
    "import numpy as np\n",
    "\n",
    "import matplotlib as mpl\n",
    "import matplotlib.pyplot as plt\n",
    "from matplotlib import font_manager as fm\n",
    "from matplotlib import cm"
   ]
  },
  {
   "cell_type": "markdown",
   "metadata": {},
   "source": [
    "## 公用函数"
   ]
  },
  {
   "cell_type": "markdown",
   "metadata": {},
   "source": [
    "### 输出信息"
   ]
  },
  {
   "cell_type": "code",
   "execution_count": null,
   "metadata": {},
   "outputs": [],
   "source": [
    "def DisplayStartInfo():\n",
    "    \"\"\"\n",
    "    :description: 显示开始时间。\n",
    "    :param None {type: None}: \n",
    "    :return startTime {type: datetime.datetime}{count: 1}: 返回当前时间。\n",
    "    \"\"\"\n",
    "    print(\"-------------------------Start-------------------------\")\n",
    "    startTime = datetime.datetime.now()\n",
    "    print(startTime.strftime('%Y-%m-%d %H:%M:%S'))\n",
    "    return startTime\n",
    "\n",
    "\n",
    "def DisplayCompletedInfo(startTime=datetime.datetime.now(), isDisplayTimeConsumed=False):\n",
    "    \"\"\"\n",
    "    :description: 显示结束时间信息。\n",
    "    :param startTime {type: datetime.datetime} {default: datetime.datetime.now()}:: 显示开始时间。default值搭配着isDisplayTimeConsumed=False一起使用，这个时候可以不输出消耗时间。\n",
    "    :param isDisplayTimeConsumed {type: bool} {default: False}: 是否显示消耗的时间，默认值不显示。\n",
    "    :return None {count: 0}: \n",
    "    \"\"\"\n",
    "    if isDisplayTimeConsumed==True:\n",
    "        print('Time consumed:', str(datetime.datetime.now() - startTime).split('.')[0])\n",
    "    print(\"Completed at \" + time.strftime(\"%Y-%m-%d %H:%M:%S\", time.localtime()) + \".\\n\")\n",
    "    print(\"-------------------------Completed-------------------------\")\n",
    "\n",
    "def DisplaySeparator():\n",
    "    print(\"---------------------------------------------------------\\n\")"
   ]
  },
  {
   "cell_type": "markdown",
   "metadata": {},
   "source": [
    "### 可视化"
   ]
  },
  {
   "cell_type": "code",
   "execution_count": null,
   "metadata": {},
   "outputs": [],
   "source": [
    "# 设置字体\n",
    "# STFANGSO.TTF字体需要拷贝。在没有STFANGSO.TTF的情况下，可以使用windows默认字体simsun.ttc。\n",
    "myFont = fm.FontProperties(fname='c:\\windows\\Fonts\\STFANGSO.TTF')\n",
    "# myFont = fm.FontProperties(fname='c:\\windows\\Fonts\\simsun.ttc')\n",
    "\n",
    "# 设置图像大小\n",
    "figSizeNormal = (5, 3.09)\n",
    "figSizeHuge = (8, 8)"
   ]
  },
  {
   "cell_type": "code",
   "execution_count": null,
   "metadata": {},
   "outputs": [],
   "source": [
    "def setRainbowColors(valueList):\n",
    "    \"\"\"_summary_ 设置饼图的彩虹色\n",
    "\n",
    "    Args:\n",
    "        valueList (list): 输入值的列表。\n",
    "\n",
    "    Returns:\n",
    "        list: 彩虹色的列表。\n",
    "    \"\"\"\n",
    "    return cm.rainbow_r(np.arange(len(valueList))/len(valueList))"
   ]
  },
  {
   "cell_type": "code",
   "execution_count": null,
   "metadata": {},
   "outputs": [],
   "source": [
    "def make_autopct(values_list):\n",
    "    def my_autopct(pct):\n",
    "        total = sum(values_list)\n",
    "        val = int(round(pct*total)/100.0)\n",
    "        return '{p:1.1f}% ({v:d}人)'.format(p=pct, v=val)\n",
    "    return my_autopct\n",
    "\n",
    "# 首先计算百分比\n",
    "def calculatePercentage(inputList):\n",
    "    percentageList = []\n",
    "    total = sum(inputList)\n",
    "    for temp in inputList:\n",
    "        percentageList.append(round((temp/total * 100.0),1))\n",
    "    return percentageList"
   ]
  }
 ],
 "metadata": {
  "kernelspec": {
   "display_name": "Python 3.7.9 64-bit",
   "language": "python",
   "name": "python3"
  },
  "language_info": {
   "name": "python",
   "version": "3.7.9"
  },
  "orig_nbformat": 4,
  "vscode": {
   "interpreter": {
    "hash": "caf831573a0ff294614842876d2763885d6da16fb80bd95fae4076843946dd1d"
   }
  }
 },
 "nbformat": 4,
 "nbformat_minor": 2
}
