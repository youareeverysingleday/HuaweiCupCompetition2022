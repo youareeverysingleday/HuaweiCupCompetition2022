{
 "cells": [
  {
   "cell_type": "markdown",
   "metadata": {},
   "source": [
    "# Answer the F Question"
   ]
  },
  {
   "cell_type": "markdown",
   "metadata": {},
   "source": [
    "## 1. 导入所需要的库"
   ]
  },
  {
   "cell_type": "code",
   "execution_count": null,
   "metadata": {},
   "outputs": [],
   "source": [
    "# 基本库\n",
    "import os\n",
    "import datetime\n",
    "import time\n",
    "\n",
    "# 数据读取\n",
    "import pandas as pd\n",
    "import numpy as np\n",
    "\n",
    "# 可视化\n",
    "import matplotlib as mpl\n",
    "import matplotlib.pyplot as plt\n",
    "from matplotlib import font_manager as fm\n",
    "from matplotlib import cm\n",
    "\n",
    "# 操作Excel表格\n",
    "\n",
    "\n",
    "\n",
    "import tensorflow as tf\n",
    "\n",
    "import dgl\n",
    "\n"
   ]
  },
  {
   "cell_type": "markdown",
   "metadata": {},
   "source": [
    "## 2 定义公共函数"
   ]
  },
  {
   "cell_type": "code",
   "execution_count": null,
   "metadata": {},
   "outputs": [],
   "source": []
  },
  {
   "cell_type": "markdown",
   "metadata": {},
   "source": [
    "## 3. 数据读取及数据预处理\n",
    "\n",
    "|编号|数据名称|重命名英文名称|说明|\n",
    "|---|---|---|---|\n",
    "|1|附件1：长春市COVID-19疫情期间病毒感染人数数据-新增本土感染者|1nlip|1New Local Infected Persons|\n",
    "|2|附件1：长春市COVID-19疫情期间病毒感染人数数据-新增无症状感染者|1nai|1New Asymptomatic Infections|\n",
    "|3|附表2：长春市9个区隔离人口数量与生活物资投放点数量|2pndpl|2Population and Number of Distribution Points of LivingMaterials|\n",
    "|4|交通路口节点数据|3tind|Traffic intersection node data|\n",
    "|5|交通路口路线数据|3tird|Traffic intersection route data|\n",
    "|6|各区主要小区数据|3dmced|Data of main communities in each district|\n",
    "|7||||\n",
    "|||||\n",
    "|||||\n",
    "|||||"
   ]
  },
  {
   "cell_type": "code",
   "execution_count": null,
   "metadata": {},
   "outputs": [],
   "source": []
  },
  {
   "cell_type": "markdown",
   "metadata": {},
   "source": [
    "## 4. 建模"
   ]
  },
  {
   "cell_type": "markdown",
   "metadata": {},
   "source": [
    "## 5. 可视化"
   ]
  }
 ],
 "metadata": {
  "kernelspec": {
   "display_name": "Python 3.7.9 64-bit",
   "language": "python",
   "name": "python3"
  },
  "language_info": {
   "name": "python",
   "version": "3.7.9"
  },
  "orig_nbformat": 4,
  "vscode": {
   "interpreter": {
    "hash": "caf831573a0ff294614842876d2763885d6da16fb80bd95fae4076843946dd1d"
   }
  }
 },
 "nbformat": 4,
 "nbformat_minor": 2
}
